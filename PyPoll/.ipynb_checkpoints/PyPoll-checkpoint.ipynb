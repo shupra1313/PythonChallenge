{
 "cells": [
  {
   "cell_type": "code",
   "execution_count": 38,
   "metadata": {},
   "outputs": [
    {
     "name": "stdout",
     "output_type": "stream",
     "text": [
      "Election Results\n",
      "\n",
      "---------------------------\n",
      "\n",
      "Khan:63.0%   (2218231)\n",
      "\n",
      "Correy:20.0%   (704200)\n",
      "\n",
      "Li:14.0%   (492940)\n",
      "\n",
      "O'Tooley:3.0%   (105630)\n",
      "\n",
      "Total Votes: 3521001\n",
      "\n",
      "----------------------------\n",
      "\n",
      "Winner: Khan\n",
      "\n",
      "Winning Votes: 2218231\n",
      "\n",
      "----------------------------\n",
      "\n"
     ]
    }
   ],
   "source": [
    "import csv\n",
    "import os\n",
    "from pathlib import Path\n",
    "\n",
    "#set path\n",
    "filepath = Path(\"C:\\\\Users\\\\Subha\\\\repos\\\\python-challenge\\\\PyPoll\\\\election_data.csv\")\n",
    "print('Election Results\\n')\n",
    "print('---------------------------\\n')\n",
    "#open the file\n",
    "with open(filepath, newline=\"\",encoding='utf-8') as csvfile:\n",
    "    csvreader = csv.reader(csvfile, delimiter=\",\")\n",
    "    #Initialize variables to empty lists and dictionary\n",
    "    votes = []\n",
    "    total_votes = 0\n",
    "    candidates = []\n",
    "    candidates_dict = {}\n",
    "    winning_votes = 0\n",
    "    next(csvreader)\n",
    "    #go line by line and process each vote\n",
    "    for row in csvreader:\n",
    "        #add to total number of votes\n",
    "        total_votes += 1\n",
    "        if row[2] not in candidates:\n",
    "            #add candidates to the empty list\n",
    "            candidates.append(row[2])\n",
    "        #to make candidate name as the key\n",
    "            candidates_dict[row[2]] = 0\n",
    "            candidates_dict[row[2]] = candidates_dict[row[2]] + 1\n",
    "        else:     \n",
    "            candidates_dict[row[2]] +=1\n",
    "    #print(candidates_dict)\n",
    "    for candidates in candidates_dict:\n",
    "        votes = candidates_dict.get(candidates)\n",
    "        percentage = (votes / total_votes)*100\n",
    "        print(str(candidates) + ':' + str(round(percentage,3)) + (\"%\") + '   (' + str(votes) + ')' '\\n')\n",
    "        if votes > winning_votes:\n",
    "            winning_votes = votes\n",
    "            winner = candidates\n",
    "            \n",
    "print(\"Total Votes: \" + str(total_votes) + '\\n')\n",
    "print('----------------------------\\n')\n",
    "print(\"Winner: \" + str(winner) +'\\n')\n",
    "print(\"Winning Votes: \" + str(winning_votes) +'\\n')\n",
    "print('----------------------------\\n')\n"
   ]
  },
  {
   "cell_type": "code",
   "execution_count": null,
   "metadata": {},
   "outputs": [],
   "source": []
  },
  {
   "cell_type": "code",
   "execution_count": null,
   "metadata": {},
   "outputs": [],
   "source": []
  }
 ],
 "metadata": {
  "kernelspec": {
   "display_name": "Python 3",
   "language": "python",
   "name": "python3"
  },
  "language_info": {
   "codemirror_mode": {
    "name": "ipython",
    "version": 3
   },
   "file_extension": ".py",
   "mimetype": "text/x-python",
   "name": "python",
   "nbconvert_exporter": "python",
   "pygments_lexer": "ipython3",
   "version": "3.6.5"
  }
 },
 "nbformat": 4,
 "nbformat_minor": 2
}
