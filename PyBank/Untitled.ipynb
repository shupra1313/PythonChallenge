{
 "cells": [
  {
   "cell_type": "code",
   "execution_count": 1,
   "metadata": {},
   "outputs": [
    {
     "name": "stdout",
     "output_type": "stream",
     "text": [
      "/c/Users/Subha/repos/python-challenge/PyBank\n"
     ]
    }
   ],
   "source": [
    "!pwd"
   ]
  },
  {
   "cell_type": "code",
   "execution_count": 7,
   "metadata": {},
   "outputs": [
    {
     "name": "stdout",
     "output_type": "stream",
     "text": [
      "Financial Analysis\n",
      "\n",
      "----------------------------------\n",
      "\n",
      "Total Months:86\n",
      "\n",
      "Total: $38382578\n",
      "\n",
      "Average Change: $-2315.1176470588234\n",
      "\n",
      "Greatest Increase in Profits: 12-Feb$24\n",
      "\n"
     ]
    },
    {
     "ename": "TypeError",
     "evalue": "'str' object is not callable",
     "output_type": "error",
     "traceback": [
      "\u001b[1;31m---------------------------------------------------------------------------\u001b[0m",
      "\u001b[1;31mTypeError\u001b[0m                                 Traceback (most recent call last)",
      "\u001b[1;32m<ipython-input-7-c805cb9ea864>\u001b[0m in \u001b[0;36m<module>\u001b[1;34m()\u001b[0m\n\u001b[0;32m     44\u001b[0m     \u001b[0mprint\u001b[0m\u001b[1;33m(\u001b[0m\u001b[1;34m\"Average Change: \"\u001b[0m \u001b[1;33m+\u001b[0m \u001b[0mstr\u001b[0m\u001b[1;33m(\u001b[0m\u001b[1;34m\"$\"\u001b[0m\u001b[1;33m)\u001b[0m \u001b[1;33m+\u001b[0m \u001b[0mstr\u001b[0m\u001b[1;33m(\u001b[0m\u001b[0msum\u001b[0m\u001b[1;33m(\u001b[0m\u001b[0mavgchange\u001b[0m\u001b[1;33m)\u001b[0m\u001b[1;33m/\u001b[0m\u001b[1;33m(\u001b[0m\u001b[0mlen\u001b[0m\u001b[1;33m(\u001b[0m\u001b[0mmonth_list\u001b[0m\u001b[1;33m)\u001b[0m\u001b[1;33m-\u001b[0m\u001b[1;36m1\u001b[0m\u001b[1;33m)\u001b[0m\u001b[1;33m)\u001b[0m \u001b[1;33m+\u001b[0m \u001b[1;34m'\\n'\u001b[0m\u001b[1;33m)\u001b[0m\u001b[1;33m\u001b[0m\u001b[0m\n\u001b[0;32m     45\u001b[0m     \u001b[0mprint\u001b[0m\u001b[1;33m(\u001b[0m\u001b[1;34m\"Greatest Increase in Profits: \"\u001b[0m \u001b[1;33m+\u001b[0m \u001b[0mstr\u001b[0m\u001b[1;33m(\u001b[0m\u001b[0mgreatest_month\u001b[0m\u001b[1;33m)\u001b[0m \u001b[1;33m+\u001b[0m \u001b[0mstr\u001b[0m\u001b[1;33m(\u001b[0m\u001b[1;34m\"$\"\u001b[0m\u001b[1;33m)\u001b[0m \u001b[1;33m+\u001b[0m \u001b[0mstr\u001b[0m\u001b[1;33m(\u001b[0m\u001b[0mmax_index\u001b[0m\u001b[1;33m)\u001b[0m \u001b[1;33m+\u001b[0m \u001b[1;34m'\\n'\u001b[0m\u001b[1;33m)\u001b[0m\u001b[1;33m\u001b[0m\u001b[0m\n\u001b[1;32m---> 46\u001b[1;33m     \u001b[0mprint\u001b[0m\u001b[1;33m(\u001b[0m\u001b[1;34m\"Greatest Decrease in Profits: \"\u001b[0m \u001b[1;33m+\u001b[0m \u001b[0mstr\u001b[0m\u001b[1;33m(\u001b[0m\u001b[0mleast_month\u001b[0m\u001b[1;33m)\u001b[0m \u001b[1;33m+\u001b[0m \u001b[0mstr\u001b[0m\u001b[1;33m(\u001b[0m\u001b[1;34m\"$\"\u001b[0m\u001b[1;33m)\u001b[0m\u001b[1;33m(\u001b[0m\u001b[0mmin_index\u001b[0m\u001b[1;33m)\u001b[0m\u001b[1;33m)\u001b[0m\u001b[1;33m\u001b[0m\u001b[0m\n\u001b[0m\u001b[0;32m     47\u001b[0m \u001b[1;33m\u001b[0m\u001b[0m\n\u001b[0;32m     48\u001b[0m \u001b[1;33m\u001b[0m\u001b[0m\n",
      "\u001b[1;31mTypeError\u001b[0m: 'str' object is not callable"
     ]
    }
   ],
   "source": [
    "# Importing dependency modules for os,csv & path\n",
    "import os\n",
    "import csv\n",
    "from pathlib import Path\n",
    "\n",
    "# Link file path to Python\n",
    "filepath = (\"budget_data.csv\")\n",
    "#Initialize variables to empty lists\n",
    "month_list = []\n",
    "revenue = []\n",
    "avgchange = []\n",
    "# open file which is linked from the path \n",
    "with open(filepath, encoding='utf-8') as csvfile:\n",
    "    # Read files\n",
    "    csvreader = csv.reader(csvfile, delimiter=\",\")\n",
    "    # Skips the headers of the csv file\n",
    "    next(csvreader,None)\n",
    "    # Loop through all the datas we collect \n",
    "    for row in csvreader:\n",
    "        #print(row)\n",
    "        # add total no. of months for the entire period\n",
    "        # Calculate net amount over entire period\n",
    "        revenue.append(int(row[1]))   \n",
    "        month_list.append(row[0])\n",
    "    \n",
    "    for i in range(1,len(revenue)):\n",
    "        avgchange.append(revenue[i] - revenue[i-1])\n",
    "    \n",
    "    max_change = max(avgchange)\n",
    "    max_index = avgchange.index(max_change)\n",
    "    #print(max_index)\n",
    "    greatest_month = month_list[max_index + 1]\n",
    "    #print(greatest_month)\n",
    "    min_change = min(avgchange)\n",
    "    min_index = avgchange.index(min_change)\n",
    "    #print(min_index)\n",
    "    least_month = month_list[min_index + 1]\n",
    "    #print(least_month)\n",
    "\n",
    "    print(\"Financial Analysis\\n\")\n",
    "    print(\"----------------------------------\\n\")\n",
    "    print(\"Total Months:\" + str(len(month_list)) + '\\n')\n",
    "    print(\"Total: $\" + str(sum(revenue)) + '\\n')\n",
    "    print(\"Average Change: \" + str(\"$\") + str(sum(avgchange)/(len(month_list)-1)) + '\\n')\n",
    "    print(\"Greatest Increase in Profits: \" + str(greatest_month) + str(\"$\") + str(max_index) + '\\n')\n",
    "    print(\"Greatest Decrease in Profits: \" + str(least_month) + str(\"$\")(min_index))\n",
    "\n",
    "\n",
    "#\"\n",
    "filepath_1 = (\"C:\\\\Users\\\\Subha\\\\repos\\\\python-challenge\\\\PyBank\\\\output_pybank.txt\")\n",
    "# opens the output destination in write mode and prints the summary\n",
    "with open(filepath_1, 'w') as writefile:\n",
    "    csvwriter = csv.writer(writefile, delimiter=\",\")\n",
    "    writefile.writelines('Financial Analysis\\n')\n",
    "    writefile.writelines('----------------------------' + '\\n')\n",
    "    writefile.writelines('Total Months: ' + str(len(month_list)) + '\\n')\n",
    "    writefile.writelines('Total: $' + str(sum(revenue)) + '\\n')\n",
    "    writefile.writelines('Average Change: ' + str('$') + str(sum(avgchange)/(len(month_list)-1)) + '\\n')\n",
    "    writefile.writelines('Greatest Increase in Profits: ' + str(greatest_month) +  str('$') + str(max_index) + '\\n')\n",
    "    writefile.writelines('Greatest Decrease in Profits: ' + str(least_month) + str('$') + str(min_index))\n",
    "\n",
    "#opens the output file in r mode and prints to terminal\n",
    "with open(output, 'r') as readfile:\n",
    "    print(readfile.read())\n",
    "\n",
    "\n",
    "\n",
    "\n",
    "\n"
   ]
  },
  {
   "cell_type": "code",
   "execution_count": null,
   "metadata": {},
   "outputs": [],
   "source": []
  }
 ],
 "metadata": {
  "kernelspec": {
   "display_name": "Python 3",
   "language": "python",
   "name": "python3"
  },
  "language_info": {
   "codemirror_mode": {
    "name": "ipython",
    "version": 3
   },
   "file_extension": ".py",
   "mimetype": "text/x-python",
   "name": "python",
   "nbconvert_exporter": "python",
   "pygments_lexer": "ipython3",
   "version": "3.6.5"
  }
 },
 "nbformat": 4,
 "nbformat_minor": 2
}
