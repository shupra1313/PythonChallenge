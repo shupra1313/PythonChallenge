{
 "cells": [
  {
   "cell_type": "code",
   "execution_count": 1,
   "metadata": {},
   "outputs": [
    {
     "ename": "FileNotFoundError",
     "evalue": "[Errno 2] No such file or directory: 'PyBank//budget_data.csv'",
     "output_type": "error",
     "traceback": [
      "\u001b[1;31m---------------------------------------------------------------------------\u001b[0m",
      "\u001b[1;31mFileNotFoundError\u001b[0m                         Traceback (most recent call last)",
      "\u001b[1;32m<ipython-input-1-ac7f61e156bb>\u001b[0m in \u001b[0;36m<module>\u001b[1;34m()\u001b[0m\n\u001b[0;32m     11\u001b[0m \u001b[0mavgchange\u001b[0m \u001b[1;33m=\u001b[0m \u001b[1;33m[\u001b[0m\u001b[1;33m]\u001b[0m\u001b[1;33m\u001b[0m\u001b[0m\n\u001b[0;32m     12\u001b[0m \u001b[1;31m# open file which is linked from the path\u001b[0m\u001b[1;33m\u001b[0m\u001b[1;33m\u001b[0m\u001b[0m\n\u001b[1;32m---> 13\u001b[1;33m \u001b[1;32mwith\u001b[0m \u001b[0mopen\u001b[0m\u001b[1;33m(\u001b[0m\u001b[0mfilepath\u001b[0m\u001b[1;33m,\u001b[0m \u001b[0mencoding\u001b[0m\u001b[1;33m=\u001b[0m\u001b[1;34m'utf-8'\u001b[0m\u001b[1;33m)\u001b[0m \u001b[1;32mas\u001b[0m \u001b[0mcsvfile\u001b[0m\u001b[1;33m:\u001b[0m\u001b[1;33m\u001b[0m\u001b[0m\n\u001b[0m\u001b[0;32m     14\u001b[0m     \u001b[1;31m# Read files\u001b[0m\u001b[1;33m\u001b[0m\u001b[1;33m\u001b[0m\u001b[0m\n\u001b[0;32m     15\u001b[0m     \u001b[0mcsvreader\u001b[0m \u001b[1;33m=\u001b[0m \u001b[0mcsv\u001b[0m\u001b[1;33m.\u001b[0m\u001b[0mreader\u001b[0m\u001b[1;33m(\u001b[0m\u001b[0mcsvfile\u001b[0m\u001b[1;33m,\u001b[0m \u001b[0mdelimiter\u001b[0m\u001b[1;33m=\u001b[0m\u001b[1;34m\",\"\u001b[0m\u001b[1;33m)\u001b[0m\u001b[1;33m\u001b[0m\u001b[0m\n",
      "\u001b[1;31mFileNotFoundError\u001b[0m: [Errno 2] No such file or directory: 'PyBank//budget_data.csv'"
     ]
    }
   ],
   "source": [
    "# Importing dependency modules for os,csv & path\n",
    "import os\n",
    "import csv\n",
    "from pathlib import Path\n",
    "\n",
    "# Link file path to Python\n",
    "filepath = (\"PyBank//budget_data.csv\")\n",
    "#Initialize variables to empty lists\n",
    "month_list = []\n",
    "revenue = []\n",
    "avgchange = []\n",
    "# open file which is linked from the path \n",
    "with open(filepath, encoding='utf-8') as csvfile:\n",
    "    # Read files\n",
    "    csvreader = csv.reader(csvfile, delimiter=\",\")\n",
    "    # Skips the headers of the csv file\n",
    "    next(csvreader,None)\n",
    "    # Loop through all the datas we collect \n",
    "    for row in csvreader:\n",
    "        #print(row)\n",
    "        # add total no. of months for the entire period\n",
    "        # Calculate net amount over entire period\n",
    "        revenue.append(int(row[1]))   \n",
    "        month_list.append(row[0])\n",
    "    \n",
    "    for i in range(1,len(revenue)):\n",
    "        avgchange.append(revenue[i] - revenue[i-1])\n",
    "    \n",
    "    max_change = max(avgchange)\n",
    "    max_index = avgchange.index(max_change)\n",
    "    #print(max_index)\n",
    "    greatest_month = month_list[max_index + 1]\n",
    "    #print(greatest_month)\n",
    "    min_change = min(avgchange)\n",
    "    min_index = avgchange.index(min_change)\n",
    "    #print(min_index)\n",
    "    least_month = month_list[min_index + 1]\n",
    "    #print(least_month)\n",
    "\n",
    "    print(\"Financial Analysis\\n\")\n",
    "    print(\"----------------------------------\\n\")\n",
    "    print(\"Total Months:\" + str(len(month_list)) + '\\n')\n",
    "    print(\"Total: $\" + str(sum(revenue)) + '\\n')\n",
    "    print(\"Average Change: \" + str(\"$\") + str(sum(avgchange)/(len(month_list)-1)) + '\\n')\n",
    "    print(\"Greatest Increase in Profits: \" + str(greatest_month) + str(\"$\") + str(max_change) + '\\n')\n",
    "    print(\"Greatest Decrease in Profits: \" + str(least_month) + str(\"$\") + str(min_change))\n",
    "\n",
    "\n",
    "#set path for output file\n",
    "filepath_1 = (\"C:\\\\Users\\\\Subha\\\\repos\\\\python-challenge\\\\PyBank\\\\output_pybank.txt\")\n",
    "# opens the output destination in write mode and prints the summary\n",
    "with open(filepath_1, 'w+') as writefile:\n",
    "    csvwriter = csv.writer(writefile, delimiter=\",\")\n",
    "    writefile.writelines('Financial Analysis\\n')\n",
    "    writefile.writelines('----------------------------' + '\\n')\n",
    "    writefile.writelines('Total Months: ' + str(len(month_list)) + '\\n')\n",
    "    writefile.writelines('Total: $' + str(sum(revenue)) + '\\n')\n",
    "    writefile.writelines('Average Change: ' + str('$') + str(sum(avgchange)/(len(month_list)-1)) + '\\n')\n",
    "    writefile.writelines('Greatest Increase in Profits: ' + str(greatest_month) +  str('  $') + str(max_change) + '\\n')\n",
    "    writefile.writelines('Greatest Decrease in Profits: ' + str(least_month) + str('  $') + str(min_change))"
   ]
  },
  {
   "cell_type": "code",
   "execution_count": null,
   "metadata": {},
   "outputs": [],
   "source": []
  },
  {
   "cell_type": "code",
   "execution_count": null,
   "metadata": {},
   "outputs": [],
   "source": []
  }
 ],
 "metadata": {
  "kernelspec": {
   "display_name": "Python 3",
   "language": "python",
   "name": "python3"
  },
  "language_info": {
   "codemirror_mode": {
    "name": "ipython",
    "version": 3
   },
   "file_extension": ".py",
   "mimetype": "text/x-python",
   "name": "python",
   "nbconvert_exporter": "python",
   "pygments_lexer": "ipython3",
   "version": "3.6.5"
  }
 },
 "nbformat": 4,
 "nbformat_minor": 2
}
