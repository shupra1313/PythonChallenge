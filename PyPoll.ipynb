{
 "cells": [
  {
   "cell_type": "code",
   "execution_count": 14,
   "metadata": {},
   "outputs": [
    {
     "name": "stdout",
     "output_type": "stream",
     "text": [
      "{'Khan': 1, 'Correy': 1, 'Li': 1, \"O'Tooley\": 1}:0.0 : (1)\n",
      "\n"
     ]
    },
    {
     "ename": "TypeError",
     "evalue": "'>' not supported between instances of 'int' and 'dict'",
     "output_type": "error",
     "traceback": [
      "\u001b[1;31m---------------------------------------------------------------------------\u001b[0m",
      "\u001b[1;31mTypeError\u001b[0m                                 Traceback (most recent call last)",
      "\u001b[1;32m<ipython-input-14-1459f5a4c2e2>\u001b[0m in \u001b[0;36m<module>\u001b[1;34m()\u001b[0m\n\u001b[0;32m     29\u001b[0m         \u001b[0mpercentage\u001b[0m \u001b[1;33m=\u001b[0m \u001b[1;33m(\u001b[0m\u001b[0mvotes\u001b[0m \u001b[1;33m/\u001b[0m \u001b[0mtotal_votes\u001b[0m\u001b[1;33m)\u001b[0m\u001b[1;33m*\u001b[0m\u001b[1;36m100\u001b[0m\u001b[1;33m\u001b[0m\u001b[0m\n\u001b[0;32m     30\u001b[0m         \u001b[0mprint\u001b[0m\u001b[1;33m(\u001b[0m\u001b[0mstr\u001b[0m\u001b[1;33m(\u001b[0m\u001b[0mcandidates_dict\u001b[0m\u001b[1;33m)\u001b[0m \u001b[1;33m+\u001b[0m \u001b[1;34m':'\u001b[0m \u001b[1;33m+\u001b[0m \u001b[0mstr\u001b[0m\u001b[1;33m(\u001b[0m\u001b[0mround\u001b[0m\u001b[1;33m(\u001b[0m\u001b[0mpercentage\u001b[0m\u001b[1;33m,\u001b[0m\u001b[1;36m2\u001b[0m\u001b[1;33m)\u001b[0m\u001b[1;33m)\u001b[0m \u001b[1;33m+\u001b[0m \u001b[1;34m' : ('\u001b[0m \u001b[1;33m+\u001b[0m \u001b[0mstr\u001b[0m\u001b[1;33m(\u001b[0m\u001b[0mvotes\u001b[0m\u001b[1;33m)\u001b[0m \u001b[1;33m+\u001b[0m \u001b[1;34m')'\u001b[0m\u001b[1;34m'\\n'\u001b[0m\u001b[1;33m)\u001b[0m\u001b[1;33m\u001b[0m\u001b[0m\n\u001b[1;32m---> 31\u001b[1;33m         \u001b[1;32mif\u001b[0m \u001b[0mvotes\u001b[0m \u001b[1;33m>\u001b[0m \u001b[0mwinning_votes\u001b[0m\u001b[1;33m:\u001b[0m\u001b[1;33m\u001b[0m\u001b[0m\n\u001b[0m\u001b[0;32m     32\u001b[0m             \u001b[0mwinning_votes\u001b[0m \u001b[1;33m=\u001b[0m \u001b[0mvotes\u001b[0m\u001b[1;33m\u001b[0m\u001b[0m\n\u001b[0;32m     33\u001b[0m             \u001b[0mwinner\u001b[0m \u001b[1;33m=\u001b[0m \u001b[0mcandidates\u001b[0m\u001b[1;33m\u001b[0m\u001b[0m\n",
      "\u001b[1;31mTypeError\u001b[0m: '>' not supported between instances of 'int' and 'dict'"
     ]
    }
   ],
   "source": [
    "import csv\n",
    "import os\n",
    "from pathlib import Path\n",
    "\n",
    "#set path\n",
    "filepath = Path(\"C:\\\\Users\\\\Subha\\\\repos\\\\python-challenge\\\\PyPoll\\\\election_data.csv\")\n",
    "#open the file\n",
    "with open(filepath, newline=\"\",encoding='utf-8') as csvfile:\n",
    "    csvreader = csv.reader(csvfile, delimiter=\",\")\n",
    "    #Initialize variables to empty lists and dictionary\n",
    "    votes = 0\n",
    "    total_votes = 0\n",
    "    candidates = []\n",
    "    candidates_dict = {}\n",
    "    winning_votes = {}\n",
    "    next(csvreader)\n",
    "    #go line by line and process each vote\n",
    "    for row in csvreader:\n",
    "        #add to total number of votes\n",
    "        total_votes += 1\n",
    "        if row[2] not in candidates:\n",
    "            #add candidates to the empty list\n",
    "            candidates.append(row[2])\n",
    "            #to make candidate name as the key\n",
    "            candidates_dict[row[2]] = 0\n",
    "            candidates_dict[row[2]] = candidates_dict[row[2]] + 1\n",
    "    for candidates in candidates_dict:\n",
    "        votes = candidates_dict.get(candidates)\n",
    "        percentage = (votes / total_votes)*100\n",
    "        print(str(candidates_dict) + ':' + str(round(percentage,2)) + ' : (' + str(votes) + ')''\\n')\n",
    "        if votes > winning_votes:\n",
    "            winning_votes = votes\n",
    "            winner = candidates\n",
    "    \n",
    "\n",
    "print('Election Results\\n')\n",
    "print('---------------------------\\n')\n",
    "print(\"Total Votes: \" + str(total_votes) + '\\n')\n",
    "print('----------------------------\\n')\n",
    "\n",
    "print('----------------------------\\n')\n",
    "#print(\"Winner: \")\n",
    "print('----------------------------\\n')\n",
    "\n",
    "#for candidates in candidates_dict:\n",
    "    #votes = candidates_dict.get(candidates)\n",
    "    #percentage = votes / total_votes\n",
    "    #new_file.write(candidates + ':' + str(round(percentage,2)*100) + ' : (' + str(votes) + ')''\\n')\n",
    "    #if votes > winning_votes:\n",
    "        #winning_votes = votes\n",
    "        #winner = candidates\n",
    "#new_file.write(\"------------------------------------- \\n\")        \n",
    "#new_file.write('Winner is: ' + winner + ' (' + str(winning_votes) + ')''\\n')\n",
    "\n",
    "#set path for output file\n",
    "#filepath_1 = (\"C:\\\\Users\\\\Subha\\\\repos\\\\python-challenge\\\\PyPoll\\\\output_pypoll.txt\")\n",
    "# opens the output destination in write mode and prints the summary\n",
    "#with open(filepath_1, 'w') as writefile:\n",
    "    #csvwriter = csv.writer(writefile, delimiter=\",\")\n",
    "    #writefile.writelines('Election Results \\n')\n",
    "    #writefile.writelines('-------------------------------\\n')\n",
    "    #writefile.writelines('Total Votes: \" + str(total_votes) + '\\n')\n",
    "    #writefile.writelines('-------------------------------\\n')\n",
    "    #writefile.writelines(str(candidates_dict) + '\\n')\n",
    "    #writefile.writelines('-------------------------------\\n')\n",
    "    #writefile.writelines(\"Winner: \")\n",
    "    #writefile.writelines('-------------------------------\\n')"
   ]
  },
  {
   "cell_type": "code",
   "execution_count": null,
   "metadata": {},
   "outputs": [],
   "source": []
  },
  {
   "cell_type": "code",
   "execution_count": null,
   "metadata": {},
   "outputs": [],
   "source": []
  }
 ],
 "metadata": {
  "kernelspec": {
   "display_name": "Python 3",
   "language": "python",
   "name": "python3"
  },
  "language_info": {
   "codemirror_mode": {
    "name": "ipython",
    "version": 3
   },
   "file_extension": ".py",
   "mimetype": "text/x-python",
   "name": "python",
   "nbconvert_exporter": "python",
   "pygments_lexer": "ipython3",
   "version": "3.6.5"
  }
 },
 "nbformat": 4,
 "nbformat_minor": 2
}
